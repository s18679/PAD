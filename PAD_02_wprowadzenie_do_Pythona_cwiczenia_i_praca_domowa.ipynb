{
 "cells": [
  {
   "cell_type": "markdown",
   "metadata": {
    "id": "YBf77-O2VMaK"
   },
   "source": [
    "## iterator"
   ]
  },
  {
   "cell_type": "code",
   "execution_count": 1,
   "metadata": {
    "id": "MobBtdWEVEu1"
   },
   "outputs": [],
   "source": [
    "'''\n",
    "Zadanie 1\n",
    "Zaimplementuj własny iterator o nazwie tetranacci, zwracający kolejne liczby ciągu Tetranacciego.\n",
    "Funkcja __init__ powinna posiadać parametr o nazwie steps określający liczbę wyrazów ciągu,\n",
    "po których funkcja __next__ rzuca wyjątek StopIteration.\n",
    "Napisz program, w którym wykorzystasz swój iterator do wypisania na ekranie kolejnych wyrazów tego ciągu.\n",
    "Niech liczbę wyrazów do wypisania podaje użytkownik.\n",
    "\n",
    "'''\n",
    "\n",
    "class Tetranacci:\n",
    "    def __init__(self, steps):\n",
    "        self.steps = steps\n",
    "        self.counter = 0\n",
    "        self.values = [0, 0 ,0 ,1]\n",
    "    \n",
    "    def __iter__(self):\n",
    "        return self\n",
    "    \n",
    "    def __next__(self):\n",
    "        if self.counter < self.steps:\n",
    "            self.counter += 1\n",
    "            if self.counter <= 4:\n",
    "                return self.values[self.counter-1]\n",
    "            else:\n",
    "                #obliczyc kolejna liczbe\n",
    "                next_value = sum(self.values)\n",
    "                self.values = self.values[1:] + [next_value]\n",
    "                return next_value\n",
    "        else:\n",
    "            raise StopIteration\n",
    "            \n",
    "steps = 10\n",
    "tet = Tetranacci(steps)"
   ]
  },
  {
   "cell_type": "code",
   "execution_count": 2,
   "metadata": {},
   "outputs": [
    {
     "name": "stdout",
     "output_type": "stream",
     "text": [
      "0\n",
      "0\n",
      "0\n",
      "1\n",
      "1\n",
      "2\n",
      "4\n",
      "8\n",
      "15\n",
      "29\n"
     ]
    }
   ],
   "source": [
    "for val in tet:\n",
    "    print(val)"
   ]
  },
  {
   "cell_type": "markdown",
   "metadata": {
    "id": "HgA0kNjTVXwG"
   },
   "source": [
    "## generator"
   ]
  },
  {
   "cell_type": "code",
   "execution_count": 3,
   "metadata": {
    "id": "hl3BhofyVdoH"
   },
   "outputs": [
    {
     "name": "stdout",
     "output_type": "stream",
     "text": [
      "1\n",
      "3\n",
      "6\n",
      "10\n",
      "15\n",
      "21\n"
     ]
    }
   ],
   "source": [
    "'''\n",
    "Zadanie 2\n",
    "Zaimplementuj własny generator o nazwie accumulate,\n",
    "zwracający kolejne sumy elementów z podanego obiektu iterowalnego.\n",
    "'''\n",
    "def accumulate(iterable_object):\n",
    "    total = 0\n",
    "    for val in iterable_object:\n",
    "        total += val\n",
    "        yield total\n",
    "        \n",
    "it_ob = [1, 2, 3, 4, 5, 6]\n",
    "acc = accumulate(it_ob)\n",
    "\n",
    "for val in acc:\n",
    "    print(val)"
   ]
  },
  {
   "cell_type": "code",
   "execution_count": 4,
   "metadata": {
    "id": "ffhbiOTJVnmB"
   },
   "outputs": [
    {
     "name": "stdout",
     "output_type": "stream",
     "text": [
      "Hello\n",
      "Nice to meet you Olgierd\n"
     ]
    }
   ],
   "source": [
    "'''\n",
    "Zadanie 3\n",
    "\n",
    "Napisz własny dekorator o nazwie hello. Wynikiem jego działania powinno być:\n",
    "• wypisanie na ekranie napisu hello\n",
    "• wywołanie funkcji przekazanej jako argument.\n",
    "'''\n",
    "def hello(func):\n",
    "    def wrapper(*args, **kwargs):\n",
    "        print('Hello')\n",
    "        return func(*args, **kwargs)\n",
    "    return wrapper\n",
    "\n",
    "@hello\n",
    "def greet(name):\n",
    "    print(f'Nice to meet you {name}')\n",
    "    \n",
    "greet('Olgierd')"
   ]
  },
  {
   "cell_type": "code",
   "execution_count": 5,
   "metadata": {
    "id": "NjZRSS6sVrm5"
   },
   "outputs": [
    {
     "data": {
      "text/plain": [
       "29"
      ]
     },
     "execution_count": 5,
     "metadata": {},
     "output_type": "execute_result"
    }
   ],
   "source": [
    "'''\n",
    "Zadanie 4\n",
    "Zaimplementuj własną funkcję o nazwie tetranacci, zwracający określony element ciągu Tetranacciego.\n",
    "Funkcja powinna posiadać parametr o nazwie n określający numer wyrazu ciągu do obliczenia.\n",
    "Obliczenia wykonuj rekurencyjnie.\n",
    "'''\n",
    "def tetranacci(n):\n",
    "    if n in (1, 2, 3):\n",
    "        return 0\n",
    "    elif n == 4:\n",
    "        return 1\n",
    "    else:\n",
    "        return tetranacci(n-1) + tetranacci(n-2) + tetranacci(n-3) + tetranacci(n-4)\n",
    "    \n",
    "tetranacci(10)"
   ]
  },
  {
   "cell_type": "markdown",
   "metadata": {
    "id": "eDFgAg3cWRAk"
   },
   "source": [
    "## klasy"
   ]
  },
  {
   "cell_type": "code",
   "execution_count": 6,
   "metadata": {
    "id": "LMrKGhhSWMM8"
   },
   "outputs": [
    {
     "name": "stdout",
     "output_type": "stream",
     "text": [
      "predkosc max: 300\n",
      "przebieg: 2321\n"
     ]
    }
   ],
   "source": [
    "'''\n",
    "Zadanie 5\n",
    "Stwórz klasę Pojazd z atrybutami predkosc_max i przebieg\n",
    "stwórz instancję klasy i wydrukuj jej atrybuty do konsoli\n",
    "tworzac instancję możesz podać dowolne wielkości\n",
    "'''\n",
    "class Pojazd:\n",
    "    def __init__(self, predkosc_max, przebieg, model):\n",
    "        self.predkosc_max = predkosc_max\n",
    "        self.przebieg = przebieg\n",
    "        print(f'predkosc max: {self.predkosc_max}\\nprzebieg: {przebieg}')\n",
    "        \n",
    "    def liczba_miejsc(self, liczba_miejsc=5):\n",
    "        print(f'{self.model} pomieści {liczba_miejsc} osób.')\n",
    "        \n",
    "pojazd = Pojazd(300, 2321, 'R1M')"
   ]
  },
  {
   "cell_type": "code",
   "execution_count": 7,
   "metadata": {
    "id": "z_dYT1f5Wexv"
   },
   "outputs": [
    {
     "name": "stdout",
     "output_type": "stream",
     "text": [
      "predkosc max: 100\n",
      "przebieg: 300000\n",
      "model: buus\n",
      "buus pomieści 5 osób.\n"
     ]
    }
   ],
   "source": [
    "'''\n",
    "Zadanie 6\n",
    "Stwórz klasę Autobus, która dziedziczy po Pojeździe utworzonym wcześniej,\n",
    "ale do atrybutów Pojazdu dodaj jeszcze nazwę modelu\n",
    "stwórz instancję klasy i wydrukuj jej atrybuty\n",
    "'''\n",
    "class Autobus(Pojazd):\n",
    "    def __init__(self, predkosc_max, przebieg, model):\n",
    "        super().__init__(predkosc_max, przebieg, model)\n",
    "        self.model = model\n",
    "        print(f'model: {model}')\n",
    "        \n",
    "        def liczba_miejsc(self, liczba_miejsc=50):\n",
    "            print(f'{self.model} pomieści {liczba_miejsc} osób.')\n",
    "        \n",
    "autobus = Autobus(100, 300000, 'buus')\n",
    "autobus.liczba_miejsc()"
   ]
  },
  {
   "cell_type": "code",
   "execution_count": null,
   "metadata": {
    "id": "CDj9cBQoWj-v"
   },
   "outputs": [],
   "source": [
    "'''\n",
    "Zadanie 7\n",
    "klasie Pojazd utwórz metodę liczba_miejsc, która będzie przyjmowała jako argument liczbę miejsc i wyświetlała komunikat:\n",
    "\"{TU WSTAWIMY NAZWE POJAZDU} pomieści {LICZBA MIEJSC} osób.\"\n",
    "Klasa Autobus ma też dziedziczyć tę metodę, ale dodatkowo przyjmować wartość domyślną dla liczby miejsc = 50\n",
    "Utwórz instancję klasy aby zaprezentować działanie\n",
    "'''"
   ]
  },
  {
   "cell_type": "code",
   "execution_count": 8,
   "metadata": {
    "id": "y2s80EMmWrKP"
   },
   "outputs": [
    {
     "data": {
      "text/plain": [
       "True"
      ]
     },
     "execution_count": 8,
     "metadata": {},
     "output_type": "execute_result"
    }
   ],
   "source": [
    "'''\n",
    "Zadanie 8\n",
    "Sprawdź czy obiekt autobus jest instancją klasy Pojazd\n",
    "'''\n",
    "isinstance(autobus, Pojazd)"
   ]
  },
  {
   "cell_type": "markdown",
   "metadata": {
    "id": "jjNBmv7pVwP_"
   },
   "source": [
    "## PRACA DOMOWA (15 pkt)"
   ]
  },
  {
   "cell_type": "code",
   "execution_count": null,
   "metadata": {},
   "outputs": [],
   "source": []
  },
  {
   "cell_type": "code",
   "execution_count": 9,
   "metadata": {
    "id": "TTUMq_uuVx32"
   },
   "outputs": [
    {
     "name": "stdout",
     "output_type": "stream",
     "text": [
      "teteranacci(300): 1304821783524671924521042280857957660164567524963999602656366728174008839436012566953\n",
      "start: 1698274243.4544845\n",
      "end: 1698274243.454985\n",
      "duration: 0.0005004405975341797\n"
     ]
    }
   ],
   "source": [
    "'''\n",
    "Zadanie 1 (4 pkt)\n",
    "Wykorzystując dekoratory, napisz cache dla funkcji tetranacci z poprzedniego zadania.\n",
    "Ten dekorator powinien zapobiegać przed ponownym obliczaniem tych samych wartości.\n",
    "'''\n",
    "from time import time\n",
    "from functools import lru_cache\n",
    "\n",
    "def cache(fun):\n",
    "    cached_values = {}\n",
    "    def wrapper(*args):\n",
    "        if args in cached_values:\n",
    "            return cached_values[args]\n",
    "        result = fun(*args)\n",
    "        cached_values[args]=result\n",
    "        return result\n",
    "    return wrapper\n",
    "\n",
    "start_time = time()\n",
    "#@lru_cache(maxsize=None)\n",
    "@cache\n",
    "def tetranacci(n):\n",
    "    if n in (1, 2, 3):\n",
    "        return 0\n",
    "    elif n == 4:\n",
    "        return 1\n",
    "    else:\n",
    "        return tetranacci(n-1) + tetranacci(n-2) + tetranacci(n-3) + tetranacci(n-4)\n",
    "\n",
    "n = 300\n",
    "print(f'teteranacci({n}): {tetranacci(n)}')\n",
    "\n",
    "end_time = time()\n",
    "print(f'start: {start_time}\\nend: {end_time}\\nduration: {end_time - start_time}')\n",
    "\n",
    "# Bez cache dla n=30 obliczenia zajmują około 5.5 sekundy\n",
    "# Z cache dla n=300 obliczenia zajmują około 0.01 sekundy"
   ]
  },
  {
   "cell_type": "code",
   "execution_count": 11,
   "metadata": {
    "id": "Q_Ur2Z9uWF-l"
   },
   "outputs": [
    {
     "name": "stdout",
     "output_type": "stream",
     "text": [
      "repeat(10, 3):\n",
      "10\n",
      "10\n",
      "10\n",
      "repeat(10, 5):\n",
      "10\n",
      "10\n",
      "10\n",
      "10\n",
      "10\n"
     ]
    }
   ],
   "source": [
    "'''\n",
    "Zadanie 2 (4 pkt)\n",
    "Zaimplementuj własny generator o nazwie repeat, zwracający obiekt podany przez użytkownika dokładnie N razy.\n",
    "Jeśli wartość parametru N nie została określona, generator powinien zwracać wartości w nieskończoność.\n",
    "\n",
    "PRZYKŁAD\n",
    "repeat(10, 3) → 10 10 10\n",
    "repeat(10, 5) → 10 10 10 10 10\n",
    "repeat(5) → 5 5 5 5 5 5 5 5 5 5 5 5 5 5 5…\n",
    "repeat(5, None) → 5 5 5 5 5 5 5 5 5 5 5 5 5 5 5…\n",
    "'''\n",
    "def repeat(val, n=None):\n",
    "    if n is None:\n",
    "        while True:\n",
    "            yield val\n",
    "    else:\n",
    "        for i in range(n):\n",
    "            yield val\n",
    "\n",
    "gen_3 = repeat(10,3)\n",
    "gen_5 = repeat(10,5)\n",
    "gen_inf1 = repeat(5)\n",
    "gen_inf2 = repeat(5, None)\n",
    "\n",
    "print('repeat(10, 3):')\n",
    "for i in gen_3:\n",
    "    print(i)\n",
    "\n",
    "print('repeat(10, 5):')\n",
    "for i in gen_5:\n",
    "    print(i)\n",
    "\n",
    "# print('repeat(5):')\n",
    "# for i in gen_inf1:\n",
    "#     print(i)\n",
    "    \n",
    "# print('repeat(5, None):')\n",
    "# for i in gen_inf2:\n",
    "#     print(i)\n",
    "\n",
    "# Zakomentowane żeby karta się nie crashowała przez out of memory\n"
   ]
  },
  {
   "cell_type": "code",
   "execution_count": 12,
   "metadata": {
    "id": "gChh80FsWzT7"
   },
   "outputs": [
    {
     "name": "stdout",
     "output_type": "stream",
     "text": [
      "predkosc max: 240\n",
      "przebieg: 3221\n",
      "kolor: bialy\n"
     ]
    }
   ],
   "source": [
    "'''\n",
    "Zadanie 3 (1 pkt)\n",
    "W kodzie z zajęć w klasie Pojazd utwórz atrybut, który niezależnie od utworzonego obiektu będzie miał taką samą wartość.\n",
    "każdy obiekt ma mieć kolor biały\n",
    "'''\n",
    "class Pojazd:\n",
    "    kolor = 'bialy'\n",
    "    def __init__(self, predkosc_max, przebieg, model):\n",
    "        self.predkosc_max = predkosc_max\n",
    "        self.przebieg = przebieg\n",
    "        self.model = model\n",
    "        print(f'predkosc max: {self.predkosc_max}\\nprzebieg: {self.przebieg}\\nkolor: {self.kolor}')\n",
    "        \n",
    "    def liczba_miejsc(self, liczba_miejsc=5):\n",
    "        print(f'{self.model} pomieści {liczba_miejsc} osób.')\n",
    "        \n",
    "motocykl = Pojazd(240, 3221, 'MT-07')\n"
   ]
  },
  {
   "cell_type": "code",
   "execution_count": 13,
   "metadata": {
    "id": "Q4Js_zjIXHZi"
   },
   "outputs": [
    {
     "name": "stdout",
     "output_type": "stream",
     "text": [
      "predkosc max: 240\n",
      "przebieg: 3221\n",
      "kolor: bialy\n",
      "MT-07 pomieści 2 osób.\n",
      "200\n",
      "predkosc max: 90\n",
      "przebieg: 422321\n",
      "kolor: bialy\n",
      "model: Ikarus\n",
      "Ikarus pomieści 50 osób.\n",
      "5500.0\n"
     ]
    }
   ],
   "source": [
    "'''\n",
    "Zadanie 4 (2 pkt)\n",
    "Wykorzystaj klasy Autobus i Pojazd.\n",
    "Zdefiniuj metodę opłata, k†óra będzie miała wartość domyślną liczba_miejsc * 100\n",
    "Jeżeli Pojazd jest instancją Autobusu, opłata ma zostać powiększona o 10% wartości opłaty początkowej.\n",
    "Np. jeżeli autobus domyślnie ma 50 miejsc to opłata całkowita wyniesie 5500\n",
    "'''\n",
    "\n",
    "class Pojazd:\n",
    "    kolor = 'bialy'\n",
    "    def __init__(self, predkosc_max, przebieg, model, liczba_miejsc=5):\n",
    "        self.predkosc_max = predkosc_max\n",
    "        self.przebieg = przebieg\n",
    "        self.model = model\n",
    "        print(f'predkosc max: {self.predkosc_max}\\nprzebieg: {self.przebieg}\\nkolor: {self.kolor}')\n",
    "        \n",
    "    def liczba_miejsc(self, liczba_miejsc=5):\n",
    "        print(f'{self.model} pomieści {liczba_miejsc} osób.')\n",
    "        return liczba_miejsc\n",
    "        \n",
    "    def oplata(self, liczba_miejsc):\n",
    "        val = self.liczba_miejsc(liczba_miejsc)*100\n",
    "        return val*1.1 if isinstance(self, Autobus) else val\n",
    "\n",
    "class Autobus(Pojazd):\n",
    "    def __init__(self, predkosc_max, przebieg, model, liczba_miejsc=5):\n",
    "        super().__init__(predkosc_max, przebieg, model)\n",
    "        print(f'model: {model}')\n",
    "        \n",
    "        def liczba_miejsc(self, liczba_miejsc=50):\n",
    "            print(f'{self.model} pomieści {liczba_miejsc} osób.')\n",
    "            \n",
    "motocykl = Pojazd(240, 3221, 'MT-07', 2)\n",
    "print(motocykl.oplata(2))\n",
    "\n",
    "autobus = Autobus(90, 422321, 'Ikarus', 50)\n",
    "print(autobus.oplata(50))"
   ]
  },
  {
   "cell_type": "code",
   "execution_count": 14,
   "metadata": {
    "id": "BsdImsIAXXsu"
   },
   "outputs": [
    {
     "name": "stdout",
     "output_type": "stream",
     "text": [
      "f(x) = 2x^2 + 3x + 1\n",
      "1.0\n",
      "6.0\n",
      "Funkcja stała o wartości 0 ma nieskończenie wiele miejsc zerowych\n",
      "None\n",
      "Funkcja stała o wartości innej niż 0 nie ma miejsc zerowych\n",
      "None\n",
      "{-1.5}\n",
      "Delta: (-8.0) jest ujemna, funkcja nie posiada miejsc zerowych\n",
      "None\n",
      "{2.0, 3.0}\n",
      "{-2.0}\n"
     ]
    }
   ],
   "source": [
    "'''\n",
    "Zadanie 5 (4 pkt)\n",
    "Napisz klasę FunkcjaKwadratowa, która przechowuje funkcje typu $ax^2$+bx+c.\n",
    "Klasa powinna zawierać trzy pola: a, b, c, które są przypisywane w konstruktorze.\n",
    "Główną metodą powinna być rozwiaz(), która zwraca miejsca zerowe podanej funkcji.\n",
    "Należy zwrócić uwagę na przypadki gdy a=0, b=0 lub c=0,\n",
    "a także obmyślić sposób informowania o nieskończonej liczbie, jednym lub zerze rozwiązań.\n",
    "'''\n",
    "\n",
    "'''\n",
    "początek kodu dla ułatwienia\n",
    "\n",
    "'''\n",
    "import math\n",
    "\n",
    "class FunkcjaKwadratowa:\n",
    "    def __init__(self, a, b, c):\n",
    "        self.a = a\n",
    "        self.b = b\n",
    "        self.c = c\n",
    "\n",
    "    def wypisz(self):\n",
    "        print(f'f(x) = {self.a}x^2 + {self.b}x + {self.c}')\n",
    "\n",
    "    def oblicz_wartosc(self, x):\n",
    "        return self.a*math.pow(x, 2) + self.b*x + self.c\n",
    "\n",
    "    def rozwiaz(self):\n",
    "        if self.a == 0 and self.b == 0: #Funkcja stała\n",
    "            if self.c == 0:\n",
    "                print('Funkcja stała o wartości 0 ma nieskończenie wiele miejsc zerowych')\n",
    "                return None\n",
    "            else:\n",
    "                print('Funkcja stała o wartości innej niż 0 nie ma miejsc zerowych')\n",
    "        elif self.a == 0: #Funkcja liniowa \n",
    "            return {-self.c/self.b}\n",
    "        else: #Funkcja kwadratowa\n",
    "            # Δ = b^2 - 4ac\n",
    "            delta = math.pow(self.b, 2) - (4 * self.a * self.c)\n",
    "            if delta < 0:\n",
    "                print(f'Delta: ({delta}) jest ujemna, funkcja nie posiada miejsc zerowych')\n",
    "                return None\n",
    "            elif delta == 0:\n",
    "                return {-self.b/(2*self.a)}\n",
    "            else:\n",
    "                x0 = (-self.b - math.sqrt(delta)) / (2 * self.a)\n",
    "                x1 = (-self.b + math.sqrt(delta)) / (2 * self.a)\n",
    "                return {x0, x1}\n",
    "\n",
    "def main():\n",
    "    f1 = FunkcjaKwadratowa(2, 3, 1)\n",
    "    f1.wypisz()\n",
    "    print(f1.oblicz_wartosc(0))\n",
    "    print(f1.oblicz_wartosc(1))\n",
    "\n",
    "    print(FunkcjaKwadratowa(0, 0, 0).rozwiaz())\n",
    "    print(FunkcjaKwadratowa(0, 0, 1).rozwiaz())\n",
    "    print(FunkcjaKwadratowa(0, 2, 3).rozwiaz())\n",
    "    print(FunkcjaKwadratowa(1, 2, 3).rozwiaz())\n",
    "    print(FunkcjaKwadratowa(1, -5, 6).rozwiaz())\n",
    "    print(FunkcjaKwadratowa(1, 4, 4).rozwiaz())\n",
    "\n",
    "if __name__ == \"__main__\":\n",
    "    main()"
   ]
  }
 ],
 "metadata": {
  "colab": {
   "authorship_tag": "ABX9TyPfvCA8avt9JyH+RrMyhpFb",
   "provenance": []
  },
  "kernelspec": {
   "display_name": "Python 3 (ipykernel)",
   "language": "python",
   "name": "python3"
  },
  "language_info": {
   "codemirror_mode": {
    "name": "ipython",
    "version": 3
   },
   "file_extension": ".py",
   "mimetype": "text/x-python",
   "name": "python",
   "nbconvert_exporter": "python",
   "pygments_lexer": "ipython3",
   "version": "3.8.5"
  }
 },
 "nbformat": 4,
 "nbformat_minor": 1
}
